{
 "cells": [
  {
   "cell_type": "code",
   "execution_count": null,
   "metadata": {
    "collapsed": true
   },
   "outputs": [],
   "source": [
    "from ggplot import *"
   ]
  },
  {
   "cell_type": "code",
   "execution_count": 2,
   "metadata": {
    "collapsed": false
   },
   "outputs": [],
   "source": [
    "from model import HabitatModel, HabitatPatch, Organism"
   ]
  },
  {
   "cell_type": "code",
   "execution_count": 13,
   "metadata": {
    "collapsed": false
   },
   "outputs": [],
   "source": [
    "mod = HabitatModel(10, 10, 5)\n",
    "mod.step()"
   ]
  },
  {
   "cell_type": "code",
   "execution_count": 17,
   "metadata": {
    "collapsed": false,
    "scrolled": false
   },
   "outputs": [
    {
     "name": "stdout",
     "output_type": "stream",
     "text": [
      "patch0\n",
      "patch1\n",
      "patch2\n",
      "patch3\n",
      "patch4\n",
      "patch5\n",
      "patch6\n",
      "patch7\n",
      "patch8\n",
      "patch9\n",
      "patch10\n",
      "patch11\n",
      "patch12\n",
      "patch13\n",
      "patch14\n",
      "patch15\n",
      "patch16\n",
      "patch17\n",
      "patch18\n",
      "patch19\n",
      "patch20\n",
      "patch21\n",
      "Organism3\n",
      "patch22\n",
      "patch23\n",
      "patch24\n",
      "patch25\n",
      "Organism1\n",
      "patch26\n",
      "patch27\n",
      "patch28\n",
      "patch29\n",
      "patch30\n",
      "patch31\n",
      "patch32\n",
      "patch33\n",
      "patch34\n",
      "patch35\n",
      "patch36\n",
      "patch37\n",
      "patch38\n",
      "patch39\n",
      "patch40\n",
      "patch41\n",
      "patch42\n",
      "patch43\n",
      "patch44\n",
      "patch45\n",
      "patch46\n",
      "patch47\n",
      "patch48\n",
      "patch49\n",
      "patch50\n",
      "patch51\n",
      "patch52\n",
      "patch53\n",
      "patch54\n",
      "patch55\n",
      "patch56\n",
      "patch57\n",
      "patch58\n",
      "patch59\n",
      "patch60\n",
      "patch61\n",
      "Organism4\n",
      "patch62\n",
      "patch63\n",
      "patch64\n",
      "patch65\n",
      "patch66\n",
      "patch67\n",
      "patch68\n",
      "patch69\n",
      "patch70\n",
      "patch71\n",
      "patch72\n",
      "patch73\n",
      "patch74\n",
      "patch75\n",
      "patch76\n",
      "patch77\n",
      "patch78\n",
      "Organism2\n",
      "patch79\n",
      "patch80\n",
      "patch81\n",
      "patch82\n",
      "patch83\n",
      "patch84\n",
      "patch85\n",
      "patch86\n",
      "patch87\n",
      "patch88\n",
      "patch89\n",
      "patch90\n",
      "patch91\n",
      "patch92\n",
      "patch93\n",
      "patch94\n",
      "patch95\n",
      "patch96\n",
      "patch97\n",
      "patch98\n",
      "Organism0\n",
      "patch99\n"
     ]
    }
   ],
   "source": [
    "for each in mod.grid:\n",
    "    #iterate over set of objects on grid\n",
    "    for object in each:\n",
    "        if isinstance(object, HabitatPatch):\n",
    "            print(object.unique_id)\n",
    "        elif isinstance(object, Organism):\n",
    "            print(object.unique_id)"
   ]
  },
  {
   "cell_type": "code",
   "execution_count": 22,
   "metadata": {
    "collapsed": false
   },
   "outputs": [
    {
     "name": "stdout",
     "output_type": "stream",
     "text": [
      "                x  y\n",
      "Step AgentID        \n",
      "0    Organism0  9  8\n",
      "     Organism1  2  5\n",
      "     Organism2  7  9\n",
      "     Organism3  2  2\n",
      "     Organism4  6  1\n"
     ]
    }
   ],
   "source": [
    "output = mod.datacollector.get_agent_vars_dataframe()\n",
    "print(output)"
   ]
  },
  {
   "cell_type": "code",
   "execution_count": 20,
   "metadata": {
    "collapsed": false
   },
   "outputs": [
    {
     "data": {
      "image/png": "[encoded data removed]",
      "text/plain": [
       "<matplotlib.figure.Figure at 0x114bf01d0>"
      ]
     },
     "metadata": {},
     "output_type": "display_data"
    },
    {
     "data": {
      "text/plain": [
       "<ggplot: (-9223372036564591209)>"
      ]
     },
     "execution_count": 20,
     "metadata": {},
     "output_type": "execute_result"
    }
   ],
   "source": [
    "ggplot(aes(x=\"x\", y=\"y\"), data=output) + geom_point() + theme_bw()"
   ]
  },
  {
   "cell_type": "code",
   "execution_count": null,
   "metadata": {
    "collapsed": true
   },
   "outputs": [],
   "source": [
    ""
   ]
  }
 ],
 "metadata": {
  "kernelspec": {
   "display_name": "Python 3",
   "language": "python",
   "name": "python3"
  },
  "language_info": {
   "codemirror_mode": {
    "name": "ipython",
    "version": 3.0
   },
   "file_extension": ".py",
   "mimetype": "text/x-python",
   "name": "python",
   "nbconvert_exporter": "python",
   "pygments_lexer": "ipython3",
   "version": "3.5.2"
  }
 },
 "nbformat": 4,
 "nbformat_minor": 0
}